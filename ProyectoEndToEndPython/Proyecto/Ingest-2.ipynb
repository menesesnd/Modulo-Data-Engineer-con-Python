{
 "cells": [
  {
   "cell_type": "code",
   "execution_count": 7,
   "id": "b00e9b9a-22bf-4faf-bc0f-89daa711e1ee",
   "metadata": {},
   "outputs": [
    {
     "name": "stdout",
     "output_type": "stream",
     "text": [
      "Collecting yml\n",
      "  Downloading yml-0.0.1.tar.gz (1.2 kB)\n",
      "  Preparing metadata (setup.py) ... \u001b[?25ldone\n",
      "\u001b[?25hBuilding wheels for collected packages: yml\n",
      "  Building wheel for yml (setup.py) ... \u001b[?25ldone\n",
      "\u001b[?25h  Created wheel for yml: filename=yml-0.0.1-py3-none-any.whl size=1374 sha256=ea88e397cc18226a50a1e38ac7676b9004db5cacbe642c0064fac1d618e3ebf8\n",
      "  Stored in directory: /root/.cache/pip/wheels/73/04/ec/2c8f8f894a749c526bdadd9688e2fddd613fcd5608030a727d\n",
      "Successfully built yml\n",
      "Installing collected packages: yml\n",
      "Successfully installed yml-0.0.1\n",
      "\u001b[33mWARNING: Running pip as the 'root' user can result in broken permissions and conflicting behaviour with the system package manager. It is recommended to use a virtual environment instead: https://pip.pypa.io/warnings/venv\u001b[0m\u001b[33m\n",
      "\u001b[0m\n",
      "\u001b[1m[\u001b[0m\u001b[34;49mnotice\u001b[0m\u001b[1;39;49m]\u001b[0m\u001b[39;49m A new release of pip is available: \u001b[0m\u001b[31;49m23.0.1\u001b[0m\u001b[39;49m -> \u001b[0m\u001b[32;49m23.1.2\u001b[0m\n",
      "\u001b[1m[\u001b[0m\u001b[34;49mnotice\u001b[0m\u001b[1;39;49m]\u001b[0m\u001b[39;49m To update, run: \u001b[0m\u001b[32;49mpip install --upgrade pip\u001b[0m\n"
     ]
    }
   ],
   "source": [
    "!pip install yml"
   ]
  },
  {
   "cell_type": "code",
   "execution_count": 20,
   "id": "9064ffbc-74fd-4b51-87fe-0694e365a1c8",
   "metadata": {},
   "outputs": [
    {
     "name": "stdout",
     "output_type": "stream",
     "text": [
      "Collecting boto3\n",
      "  Downloading boto3-1.26.154-py3-none-any.whl (135 kB)\n",
      "\u001b[2K     \u001b[90m━━━━━━━━━━━━━━━━━━━━━━━━━━━━━━━━━━━━━━━\u001b[0m \u001b[32m135.6/135.6 kB\u001b[0m \u001b[31m2.2 MB/s\u001b[0m eta \u001b[36m0:00:00\u001b[0ma \u001b[36m0:00:01\u001b[0m\n",
      "\u001b[?25hCollecting botocore<1.30.0,>=1.29.154\n",
      "  Downloading botocore-1.29.154-py3-none-any.whl (10.9 MB)\n",
      "\u001b[2K     \u001b[90m━━━━━━━━━━━━━━━━━━━━━━━━━━━━━━━━━━━━━━━━\u001b[0m \u001b[32m10.9/10.9 MB\u001b[0m \u001b[31m4.0 MB/s\u001b[0m eta \u001b[36m0:00:00\u001b[0m00:01\u001b[0m00:01\u001b[0m\n",
      "\u001b[?25hCollecting s3transfer<0.7.0,>=0.6.0\n",
      "  Downloading s3transfer-0.6.1-py3-none-any.whl (79 kB)\n",
      "\u001b[2K     \u001b[90m━━━━━━━━━━━━━━━━━━━━━━━━━━━━━━━━━━━━━━━━\u001b[0m \u001b[32m79.8/79.8 kB\u001b[0m \u001b[31m5.9 MB/s\u001b[0m eta \u001b[36m0:00:00\u001b[0m\n",
      "\u001b[?25hCollecting jmespath<2.0.0,>=0.7.1\n",
      "  Downloading jmespath-1.0.1-py3-none-any.whl (20 kB)\n",
      "Requirement already satisfied: urllib3<1.27,>=1.25.4 in /usr/local/lib/python3.9/site-packages (from botocore<1.30.0,>=1.29.154->boto3) (1.26.16)\n",
      "Requirement already satisfied: python-dateutil<3.0.0,>=2.1 in /usr/local/lib/python3.9/site-packages (from botocore<1.30.0,>=1.29.154->boto3) (2.8.2)\n",
      "Requirement already satisfied: six>=1.5 in /usr/local/lib/python3.9/site-packages (from python-dateutil<3.0.0,>=2.1->botocore<1.30.0,>=1.29.154->boto3) (1.16.0)\n",
      "Installing collected packages: jmespath, botocore, s3transfer, boto3\n",
      "Successfully installed boto3-1.26.154 botocore-1.29.154 jmespath-1.0.1 s3transfer-0.6.1\n",
      "\u001b[33mWARNING: Running pip as the 'root' user can result in broken permissions and conflicting behaviour with the system package manager. It is recommended to use a virtual environment instead: https://pip.pypa.io/warnings/venv\u001b[0m\u001b[33m\n",
      "\u001b[0m\n",
      "\u001b[1m[\u001b[0m\u001b[34;49mnotice\u001b[0m\u001b[1;39;49m]\u001b[0m\u001b[39;49m A new release of pip is available: \u001b[0m\u001b[31;49m23.0.1\u001b[0m\u001b[39;49m -> \u001b[0m\u001b[32;49m23.1.2\u001b[0m\n",
      "\u001b[1m[\u001b[0m\u001b[34;49mnotice\u001b[0m\u001b[1;39;49m]\u001b[0m\u001b[39;49m To update, run: \u001b[0m\u001b[32;49mpip install --upgrade pip\u001b[0m\n"
     ]
    }
   ],
   "source": [
    "!pip install boto3"
   ]
  },
  {
   "cell_type": "code",
   "execution_count": 5,
   "id": "5fec4611-88e9-4e55-97d3-9179d1d5309e",
   "metadata": {},
   "outputs": [],
   "source": [
    "from process.Extract_2 import Extract \n",
    "from process.Transform_2 import Transform\n",
    "from process.Load_2 import Load \n",
    "import pandas as pd\n"
   ]
  },
  {
   "cell_type": "code",
   "execution_count": 6,
   "id": "d1a94bd6-c67a-4727-b128-edd36f417891",
   "metadata": {},
   "outputs": [],
   "source": [
    "extract = Extract()\n",
    "transform = Transform()\n",
    "load = Load()"
   ]
  },
  {
   "cell_type": "markdown",
   "id": "2d5c9a5b-4a9b-448e-ac49-24cdfc1da83d",
   "metadata": {},
   "source": [
    "# Lectura de datos de Azure Datalake"
   ]
  },
  {
   "cell_type": "code",
   "execution_count": 3,
   "id": "e32b094b-76e1-452f-b5ae-279b24c4a80d",
   "metadata": {},
   "outputs": [],
   "source": [
    "customer_adls = extract.read_adls('source','retail/menesesnd/customers')\n",
    "orders_adls = extract.read_adls('source','retail/menesesnd/orders')\n",
    "order_items_adls = extract.read_adls('source','retail/menesesnd/order_items')\n",
    "products_adls = extract.read_adls('source','retail/menesesnd/products')\n",
    "categories_adls = extract.read_adls('source','retail/menesesnd/categories')\n",
    "departments_adls = extract.read_adls('source','retail/menesesnd/departments')"
   ]
  },
  {
   "cell_type": "code",
   "execution_count": 4,
   "id": "259292fd-4966-46dd-b3c4-66587d816ce9",
   "metadata": {},
   "outputs": [
    {
     "data": {
      "text/html": [
       "<div>\n",
       "<style scoped>\n",
       "    .dataframe tbody tr th:only-of-type {\n",
       "        vertical-align: middle;\n",
       "    }\n",
       "\n",
       "    .dataframe tbody tr th {\n",
       "        vertical-align: top;\n",
       "    }\n",
       "\n",
       "    .dataframe thead th {\n",
       "        text-align: right;\n",
       "    }\n",
       "</style>\n",
       "<table border=\"1\" class=\"dataframe\">\n",
       "  <thead>\n",
       "    <tr style=\"text-align: right;\">\n",
       "      <th></th>\n",
       "      <th>category_id</th>\n",
       "      <th>category_department_id</th>\n",
       "      <th>category_name</th>\n",
       "    </tr>\n",
       "  </thead>\n",
       "  <tbody>\n",
       "    <tr>\n",
       "      <th>0</th>\n",
       "      <td>1</td>\n",
       "      <td>2</td>\n",
       "      <td>Football</td>\n",
       "    </tr>\n",
       "    <tr>\n",
       "      <th>1</th>\n",
       "      <td>2</td>\n",
       "      <td>2</td>\n",
       "      <td>Soccer</td>\n",
       "    </tr>\n",
       "    <tr>\n",
       "      <th>2</th>\n",
       "      <td>3</td>\n",
       "      <td>2</td>\n",
       "      <td>Baseball &amp; Softball</td>\n",
       "    </tr>\n",
       "    <tr>\n",
       "      <th>3</th>\n",
       "      <td>4</td>\n",
       "      <td>2</td>\n",
       "      <td>Basketball</td>\n",
       "    </tr>\n",
       "    <tr>\n",
       "      <th>4</th>\n",
       "      <td>5</td>\n",
       "      <td>2</td>\n",
       "      <td>Lacrosse</td>\n",
       "    </tr>\n",
       "  </tbody>\n",
       "</table>\n",
       "</div>"
      ],
      "text/plain": [
       "   category_id  category_department_id        category_name\n",
       "0            1                       2             Football\n",
       "1            2                       2               Soccer\n",
       "2            3                       2  Baseball & Softball\n",
       "3            4                       2           Basketball\n",
       "4            5                       2             Lacrosse"
      ]
     },
     "execution_count": 4,
     "metadata": {},
     "output_type": "execute_result"
    }
   ],
   "source": [
    "categories_adls.head()"
   ]
  },
  {
   "cell_type": "markdown",
   "id": "b52ca35c-4f12-4db3-a0d1-0d8c05b6b5bf",
   "metadata": {},
   "source": [
    "# Lectura de datos de SQL"
   ]
  },
  {
   "cell_type": "code",
   "execution_count": 10,
   "id": "bca83cf1-6225-41c9-aa32-d5706b23f138",
   "metadata": {},
   "outputs": [],
   "source": [
    "customer_sql = extract.read_mysql('retail_db','customers')\n",
    "orders_sql = extract.read_mysql('retail_db','orders')\n",
    "order_items_sql = extract.read_mysql('retail_db','order_items')\n",
    "products_sql = extract.read_mysql('retail_db','products')\n",
    "categories_sql = extract.read_mysql('retail_db','categories')\n",
    "departments_sql = extract.read_mysql('retail_db','departments')"
   ]
  },
  {
   "cell_type": "code",
   "execution_count": null,
   "id": "52ea916e-297e-4078-8c5e-3e60f08857b2",
   "metadata": {},
   "outputs": [],
   "source": [
    "products_sql.head()"
   ]
  },
  {
   "cell_type": "markdown",
   "id": "31f774e8-cd9b-4686-b95e-6c8ff62dd468",
   "metadata": {},
   "source": [
    "# Lectura de datos de Google Cloud "
   ]
  },
  {
   "cell_type": "code",
   "execution_count": 11,
   "id": "61c24ed9-241d-42e0-a287-dd9cca432b16",
   "metadata": {
    "scrolled": true
   },
   "outputs": [],
   "source": [
    "customer_cloud = extract.read_cloud_storage('datadep12','retail/customers')\n",
    "orders_cloud = extract.read_cloud_storage('datadep12','retail/orders')\n",
    "order_items_cloud = extract.read_cloud_storage('datadep12','retail/order_items')\n",
    "products_cloud = extract.read_cloud_storage('datadep12','retail/products')\n",
    "categories_cloud = extract.read_cloud_storage('datadep12','retail/categories')\n",
    "departments_cloud = extract.read_cloud_storage('datadep12','retail/departments')"
   ]
  },
  {
   "cell_type": "code",
   "execution_count": 8,
   "id": "93694689-6c38-4f16-9516-563c0c1961cf",
   "metadata": {},
   "outputs": [
    {
     "data": {
      "text/html": [
       "<div>\n",
       "<style scoped>\n",
       "    .dataframe tbody tr th:only-of-type {\n",
       "        vertical-align: middle;\n",
       "    }\n",
       "\n",
       "    .dataframe tbody tr th {\n",
       "        vertical-align: top;\n",
       "    }\n",
       "\n",
       "    .dataframe thead th {\n",
       "        text-align: right;\n",
       "    }\n",
       "</style>\n",
       "<table border=\"1\" class=\"dataframe\">\n",
       "  <thead>\n",
       "    <tr style=\"text-align: right;\">\n",
       "      <th></th>\n",
       "      <th>customer_id</th>\n",
       "      <th>customer_fname</th>\n",
       "      <th>customer_lname</th>\n",
       "      <th>customer_email</th>\n",
       "      <th>customer_password</th>\n",
       "      <th>customer_street</th>\n",
       "      <th>customer_city</th>\n",
       "      <th>customer_state</th>\n",
       "      <th>customer_zipcode</th>\n",
       "    </tr>\n",
       "  </thead>\n",
       "  <tbody>\n",
       "    <tr>\n",
       "      <th>0</th>\n",
       "      <td>1</td>\n",
       "      <td>Richard</td>\n",
       "      <td>Hernandez</td>\n",
       "      <td>XXXXXXXXX</td>\n",
       "      <td>XXXXXXXXX</td>\n",
       "      <td>6303 Heather Plaza</td>\n",
       "      <td>Brownsville</td>\n",
       "      <td>TX</td>\n",
       "      <td>78521</td>\n",
       "    </tr>\n",
       "    <tr>\n",
       "      <th>1</th>\n",
       "      <td>2</td>\n",
       "      <td>Mary</td>\n",
       "      <td>Barrett</td>\n",
       "      <td>XXXXXXXXX</td>\n",
       "      <td>XXXXXXXXX</td>\n",
       "      <td>9526 Noble Embers Ridge</td>\n",
       "      <td>Littleton</td>\n",
       "      <td>CO</td>\n",
       "      <td>80126</td>\n",
       "    </tr>\n",
       "    <tr>\n",
       "      <th>2</th>\n",
       "      <td>3</td>\n",
       "      <td>Ann</td>\n",
       "      <td>Smith</td>\n",
       "      <td>XXXXXXXXX</td>\n",
       "      <td>XXXXXXXXX</td>\n",
       "      <td>3422 Blue Pioneer Bend</td>\n",
       "      <td>Caguas</td>\n",
       "      <td>PR</td>\n",
       "      <td>725</td>\n",
       "    </tr>\n",
       "    <tr>\n",
       "      <th>3</th>\n",
       "      <td>4</td>\n",
       "      <td>Mary</td>\n",
       "      <td>Jones</td>\n",
       "      <td>XXXXXXXXX</td>\n",
       "      <td>XXXXXXXXX</td>\n",
       "      <td>8324 Little Common</td>\n",
       "      <td>San Marcos</td>\n",
       "      <td>CA</td>\n",
       "      <td>92069</td>\n",
       "    </tr>\n",
       "    <tr>\n",
       "      <th>4</th>\n",
       "      <td>5</td>\n",
       "      <td>Robert</td>\n",
       "      <td>Hudson</td>\n",
       "      <td>XXXXXXXXX</td>\n",
       "      <td>XXXXXXXXX</td>\n",
       "      <td>10 Crystal River Mall</td>\n",
       "      <td>Caguas</td>\n",
       "      <td>PR</td>\n",
       "      <td>725</td>\n",
       "    </tr>\n",
       "  </tbody>\n",
       "</table>\n",
       "</div>"
      ],
      "text/plain": [
       "   customer_id customer_fname customer_lname customer_email customer_password  \\\n",
       "0            1        Richard      Hernandez      XXXXXXXXX         XXXXXXXXX   \n",
       "1            2           Mary        Barrett      XXXXXXXXX         XXXXXXXXX   \n",
       "2            3            Ann          Smith      XXXXXXXXX         XXXXXXXXX   \n",
       "3            4           Mary          Jones      XXXXXXXXX         XXXXXXXXX   \n",
       "4            5         Robert         Hudson      XXXXXXXXX         XXXXXXXXX   \n",
       "\n",
       "           customer_street customer_city customer_state  customer_zipcode  \n",
       "0       6303 Heather Plaza   Brownsville             TX             78521  \n",
       "1  9526 Noble Embers Ridge     Littleton             CO             80126  \n",
       "2   3422 Blue Pioneer Bend        Caguas             PR               725  \n",
       "3       8324 Little Common    San Marcos             CA             92069  \n",
       "4   10 Crystal River Mall         Caguas             PR               725  "
      ]
     },
     "execution_count": 8,
     "metadata": {},
     "output_type": "execute_result"
    }
   ],
   "source": [
    "customer_cloud.head()"
   ]
  },
  {
   "cell_type": "markdown",
   "id": "75272e22-c4e5-4027-bd53-16ffdc456efe",
   "metadata": {},
   "source": [
    "# Lectura de datos de MongoDB"
   ]
  },
  {
   "cell_type": "code",
   "execution_count": 6,
   "id": "46371e98-deec-40d5-8110-48d0e05f0e30",
   "metadata": {},
   "outputs": [],
   "source": [
    "customer_mongoDB = extract.read_mongodb('retail_db',\"customers\")\n",
    "orders_mongoDB= extract.read_mongodb('retail_db','orders')\n",
    "order_items_mongoDB = extract.read_mongodb('retail_db','order_items')\n",
    "products_mongoDB = extract.read_mongodb('retail_db','products')\n",
    "categories_mongoDB = extract.read_mongodb('retail_db','categories')\n",
    "departments_mongoDB = extract.read_mongodb('retail_db','departments')"
   ]
  },
  {
   "cell_type": "code",
   "execution_count": 8,
   "id": "08148679-94d3-46db-9eb0-abe6e3fb78d2",
   "metadata": {},
   "outputs": [
    {
     "data": {
      "text/html": [
       "<div>\n",
       "<style scoped>\n",
       "    .dataframe tbody tr th:only-of-type {\n",
       "        vertical-align: middle;\n",
       "    }\n",
       "\n",
       "    .dataframe tbody tr th {\n",
       "        vertical-align: top;\n",
       "    }\n",
       "\n",
       "    .dataframe thead th {\n",
       "        text-align: right;\n",
       "    }\n",
       "</style>\n",
       "<table border=\"1\" class=\"dataframe\">\n",
       "  <thead>\n",
       "    <tr style=\"text-align: right;\">\n",
       "      <th></th>\n",
       "      <th>_id</th>\n",
       "      <th>order_item_id</th>\n",
       "      <th>order_item_order_id</th>\n",
       "      <th>order_item_product_id</th>\n",
       "      <th>order_item_quantity</th>\n",
       "      <th>order_item_subtotal</th>\n",
       "      <th>order_item_product_price</th>\n",
       "    </tr>\n",
       "  </thead>\n",
       "  <tbody>\n",
       "    <tr>\n",
       "      <th>0</th>\n",
       "      <td>64866cc04b52daffda5e77ca</td>\n",
       "      <td>1</td>\n",
       "      <td>1</td>\n",
       "      <td>957</td>\n",
       "      <td>1</td>\n",
       "      <td>299.98</td>\n",
       "      <td>299.98</td>\n",
       "    </tr>\n",
       "    <tr>\n",
       "      <th>1</th>\n",
       "      <td>64866cc04b52daffda5e77cb</td>\n",
       "      <td>2</td>\n",
       "      <td>2</td>\n",
       "      <td>1073</td>\n",
       "      <td>1</td>\n",
       "      <td>199.99</td>\n",
       "      <td>199.99</td>\n",
       "    </tr>\n",
       "    <tr>\n",
       "      <th>2</th>\n",
       "      <td>64866cc04b52daffda5e77cc</td>\n",
       "      <td>3</td>\n",
       "      <td>2</td>\n",
       "      <td>502</td>\n",
       "      <td>5</td>\n",
       "      <td>250.00</td>\n",
       "      <td>50.00</td>\n",
       "    </tr>\n",
       "    <tr>\n",
       "      <th>3</th>\n",
       "      <td>64866cc04b52daffda5e77cd</td>\n",
       "      <td>4</td>\n",
       "      <td>2</td>\n",
       "      <td>403</td>\n",
       "      <td>1</td>\n",
       "      <td>129.99</td>\n",
       "      <td>129.99</td>\n",
       "    </tr>\n",
       "    <tr>\n",
       "      <th>4</th>\n",
       "      <td>64866cc04b52daffda5e77ce</td>\n",
       "      <td>5</td>\n",
       "      <td>4</td>\n",
       "      <td>897</td>\n",
       "      <td>2</td>\n",
       "      <td>49.98</td>\n",
       "      <td>24.99</td>\n",
       "    </tr>\n",
       "  </tbody>\n",
       "</table>\n",
       "</div>"
      ],
      "text/plain": [
       "                        _id  order_item_id  order_item_order_id  \\\n",
       "0  64866cc04b52daffda5e77ca              1                    1   \n",
       "1  64866cc04b52daffda5e77cb              2                    2   \n",
       "2  64866cc04b52daffda5e77cc              3                    2   \n",
       "3  64866cc04b52daffda5e77cd              4                    2   \n",
       "4  64866cc04b52daffda5e77ce              5                    4   \n",
       "\n",
       "   order_item_product_id  order_item_quantity  order_item_subtotal  \\\n",
       "0                    957                    1               299.98   \n",
       "1                   1073                    1               199.99   \n",
       "2                    502                    5               250.00   \n",
       "3                    403                    1               129.99   \n",
       "4                    897                    2                49.98   \n",
       "\n",
       "   order_item_product_price  \n",
       "0                    299.98  \n",
       "1                    199.99  \n",
       "2                     50.00  \n",
       "3                    129.99  \n",
       "4                     24.99  "
      ]
     },
     "execution_count": 8,
     "metadata": {},
     "output_type": "execute_result"
    }
   ],
   "source": [
    "order_items_mongoDB.head()"
   ]
  },
  {
   "cell_type": "markdown",
   "id": "54285194-bead-4efb-8b8b-159197ef5d56",
   "metadata": {},
   "source": [
    "# Carga a zona Landing"
   ]
  },
  {
   "cell_type": "markdown",
   "id": "327de169-6e74-4ca3-aa16-5eb78143c2b9",
   "metadata": {},
   "source": [
    "## Carga a Azure Datalake"
   ]
  },
  {
   "cell_type": "code",
   "execution_count": 15,
   "id": "5509e309-a5ff-4cc0-b500-032acb7803ea",
   "metadata": {},
   "outputs": [],
   "source": [
    "load.load_to_adls(customer_mongoDB,'source','landing/customers')\n",
    "load.load_to_adls(orders_cloud,'source','landing/orders')\n",
    "load.load_to_adls(order_items_sql,'source','landing/order_items')\n",
    "load.load_to_adls(products_mongoDB,'source','landing/products')\n",
    "load.load_to_adls(categories_cloud,'source','landing/categories')\n",
    "load.load_to_adls(departments_sql,'source','landing/departments')\n"
   ]
  },
  {
   "cell_type": "markdown",
   "id": "badb3fe5-10ae-4c8c-a30f-4ca975f847f4",
   "metadata": {},
   "source": [
    "## Carga a Google Cloud Storage"
   ]
  },
  {
   "cell_type": "code",
   "execution_count": 17,
   "id": "41b18528-9c26-4989-bab1-296e8bd1646f",
   "metadata": {},
   "outputs": [],
   "source": [
    "load.load_to_cloud_storage(customer_mongoDB,'datadep12','landing/customers')\n",
    "load.load_to_cloud_storage(orders_adls,'datadep12','landing/orders')\n",
    "load.load_to_cloud_storage(order_items_sql,'datadep12','landing/order_items')\n",
    "load.load_to_cloud_storage(products_mongoDB,'datadep12','landing/products')\n",
    "load.load_to_cloud_storage(categories_adls,'datadep12','landing/categories')\n",
    "load.load_to_cloud_storage(departments_sql,'datadep12','landing/departments')"
   ]
  },
  {
   "cell_type": "code",
   "execution_count": 19,
   "id": "724ad2fc-ed45-4bc9-ba66-6186d59d0be2",
   "metadata": {},
   "outputs": [],
   "source": [
    "def ingest_data_adls(containerName,folderName,fileName):\n",
    "    df = extract.read_adls(containerName,f\"{folderName}/{fileName}\")\n",
    "    load.load_to_adls(df,'datalake',f'landing/{fileName}')"
   ]
  },
  {
   "cell_type": "code",
   "execution_count": null,
   "id": "6946c074-08fa-4c6e-8c2b-0e4a5294d0e2",
   "metadata": {},
   "outputs": [],
   "source": []
  },
  {
   "cell_type": "markdown",
   "id": "ffaea0dc-404e-44fd-ab90-f82bbc818b32",
   "metadata": {},
   "source": [
    "# Tranformacion de datos"
   ]
  },
  {
   "cell_type": "markdown",
   "id": "caa7364b-1c31-41fd-9320-fe6a2dca3f30",
   "metadata": {},
   "source": [
    "## Lectura de bases de datos de Azure Datalake Storage"
   ]
  },
  {
   "cell_type": "code",
   "execution_count": 7,
   "id": "7a2f37b3-4ad3-4838-a929-5fc6219bf925",
   "metadata": {},
   "outputs": [],
   "source": [
    "customer_trans_adls = extract.read_adls('source','landing/customers')\n",
    "orders_trans_adls = extract.read_adls('source','landing/orders')\n",
    "order_items_trans_adls = extract.read_adls('source','landing/order_items')\n",
    "products_trans_adls = extract.read_adls('source','landing/products')\n",
    "categories_trans_adls = extract.read_adls('source','landing/categories')\n",
    "departments_trans_adls = extract.read_adls('source','landing/departments')"
   ]
  },
  {
   "cell_type": "markdown",
   "id": "25219780-c39f-4adf-ac13-4fff31f15e38",
   "metadata": {},
   "source": [
    "## Transformacion de bases de datos de Azure Datalake Storage"
   ]
  },
  {
   "cell_type": "code",
   "execution_count": 8,
   "id": "9c5e276d-1011-404d-98b2-21df1757be0a",
   "metadata": {},
   "outputs": [],
   "source": [
    "\n",
    "#df_enunciado1=transform.enunciado1(customer_trans_adls,orders_trans_adls,order_items_trans_adls)\n",
    "#df_enunciado2=transform.enunciado2(order_items_trans_adls,products_trans_adls,categories_trans_adls,)\n",
    "#df_enunciado3=transform.enunciado3(customer_trans_adls,orders_trans_adls,order_items_trans_adls,products_trans_adls,categories_trans_adls)\n",
    "df_enunciado4=transform.enunciado4(customer_trans_adls,orders_trans_adls,order_items_trans_adls,products_trans_adls,categories_trans_adls)\n",
    "                                  "
   ]
  },
  {
   "cell_type": "code",
   "execution_count": 9,
   "id": "0835f8ef-ecdc-4a36-bfee-515c1c653ad5",
   "metadata": {},
   "outputs": [
    {
     "data": {
      "text/html": [
       "<div>\n",
       "<style scoped>\n",
       "    .dataframe tbody tr th:only-of-type {\n",
       "        vertical-align: middle;\n",
       "    }\n",
       "\n",
       "    .dataframe tbody tr th {\n",
       "        vertical-align: top;\n",
       "    }\n",
       "\n",
       "    .dataframe thead th {\n",
       "        text-align: right;\n",
       "    }\n",
       "</style>\n",
       "<table border=\"1\" class=\"dataframe\">\n",
       "  <thead>\n",
       "    <tr style=\"text-align: right;\">\n",
       "      <th></th>\n",
       "      <th>product_name</th>\n",
       "      <th>total</th>\n",
       "    </tr>\n",
       "  </thead>\n",
       "  <tbody>\n",
       "    <tr>\n",
       "      <th>0</th>\n",
       "      <td>Perfect Fitness Perfect Rip Deck</td>\n",
       "      <td>73698</td>\n",
       "    </tr>\n",
       "    <tr>\n",
       "      <th>1</th>\n",
       "      <td>Nike Men's Dri-FIT Victory Golf Polo</td>\n",
       "      <td>62956</td>\n",
       "    </tr>\n",
       "    <tr>\n",
       "      <th>2</th>\n",
       "      <td>O'Brien Men's Neoprene Life Vest</td>\n",
       "      <td>57803</td>\n",
       "    </tr>\n",
       "    <tr>\n",
       "      <th>3</th>\n",
       "      <td>Nike Men's Free 5.0+ Running Shoe</td>\n",
       "      <td>36680</td>\n",
       "    </tr>\n",
       "    <tr>\n",
       "      <th>4</th>\n",
       "      <td>Under Armour Girls' Toddler Spine Surge Runni</td>\n",
       "      <td>31735</td>\n",
       "    </tr>\n",
       "  </tbody>\n",
       "</table>\n",
       "</div>"
      ],
      "text/plain": [
       "                                    product_name  total\n",
       "0               Perfect Fitness Perfect Rip Deck  73698\n",
       "1           Nike Men's Dri-FIT Victory Golf Polo  62956\n",
       "2               O'Brien Men's Neoprene Life Vest  57803\n",
       "3              Nike Men's Free 5.0+ Running Shoe  36680\n",
       "4  Under Armour Girls' Toddler Spine Surge Runni  31735"
      ]
     },
     "execution_count": 9,
     "metadata": {},
     "output_type": "execute_result"
    }
   ],
   "source": [
    "df_enunciado4.head()"
   ]
  },
  {
   "cell_type": "markdown",
   "id": "6383ae5b-1712-4a05-9583-a1c0fda1dd7b",
   "metadata": {},
   "source": [
    "## Carga de tranformaciones a Azure en capa Gold"
   ]
  },
  {
   "cell_type": "code",
   "execution_count": 30,
   "id": "2f9c54e8-d7ea-49b2-bdaf-a063c9213e83",
   "metadata": {},
   "outputs": [],
   "source": [
    "load.load_to_adls(df_enunciado1,\"source\",\"gold/df_enunciado1\")\n",
    "load.load_to_adls(df_enunciado2,\"source\",\"gold/df_enunciado2\")\n",
    "load.load_to_adls(df_enunciado3,\"source\",\"gold/df_enunciado3\")\n",
    "load.load_to_adls(df_enunciado4,\"source\",\"gold/df_enunciado4\")"
   ]
  },
  {
   "cell_type": "code",
   "execution_count": null,
   "id": "b338b1cb-167c-41bf-b7b7-b005b5b8f70d",
   "metadata": {},
   "outputs": [],
   "source": []
  },
  {
   "cell_type": "code",
   "execution_count": null,
   "id": "969be31f-698b-4b49-a377-07ab9eebe636",
   "metadata": {},
   "outputs": [],
   "source": []
  }
 ],
 "metadata": {
  "kernelspec": {
   "display_name": "Python 3 (ipykernel)",
   "language": "python",
   "name": "python3"
  },
  "language_info": {
   "codemirror_mode": {
    "name": "ipython",
    "version": 3
   },
   "file_extension": ".py",
   "mimetype": "text/x-python",
   "name": "python",
   "nbconvert_exporter": "python",
   "pygments_lexer": "ipython3",
   "version": "3.9.17"
  }
 },
 "nbformat": 4,
 "nbformat_minor": 5
}
